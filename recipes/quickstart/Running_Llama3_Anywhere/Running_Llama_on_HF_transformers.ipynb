{
 "cells": [
  {
   "cell_type": "markdown",
   "metadata": {},
   "source": [
    "## Running Meta Llama 3.1 using Hugging Face transformers library"
   ]
  },
  {
   "cell_type": "code",
   "execution_count": 1,
   "metadata": {},
   "outputs": [
    {
     "name": "stdout",
     "output_type": "stream",
     "text": [
      "Looking in indexes: https://pypi.tuna.tsinghua.edu.cn/simple\n",
      "Requirement already satisfied: transformers in /home/wxgrp/luyanfeng/luyanfeng/fork-llama-recipes/env/lib/python3.11/site-packages (4.46.3)\n",
      "Requirement already satisfied: filelock in /home/wxgrp/luyanfeng/luyanfeng/fork-llama-recipes/env/lib/python3.11/site-packages (from transformers) (3.16.1)\n",
      "Requirement already satisfied: huggingface-hub<1.0,>=0.23.2 in /home/wxgrp/luyanfeng/luyanfeng/fork-llama-recipes/env/lib/python3.11/site-packages (from transformers) (0.26.2)\n",
      "Requirement already satisfied: numpy>=1.17 in /home/wxgrp/luyanfeng/luyanfeng/fork-llama-recipes/env/lib/python3.11/site-packages (from transformers) (1.26.4)\n",
      "Requirement already satisfied: packaging>=20.0 in /home/wxgrp/luyanfeng/luyanfeng/fork-llama-recipes/env/lib/python3.11/site-packages (from transformers) (24.2)\n",
      "Requirement already satisfied: pyyaml>=5.1 in /home/wxgrp/luyanfeng/luyanfeng/fork-llama-recipes/env/lib/python3.11/site-packages (from transformers) (6.0.1)\n",
      "Requirement already satisfied: regex!=2019.12.17 in /home/wxgrp/luyanfeng/luyanfeng/fork-llama-recipes/env/lib/python3.11/site-packages (from transformers) (2024.11.6)\n",
      "Requirement already satisfied: requests in /home/wxgrp/luyanfeng/luyanfeng/fork-llama-recipes/env/lib/python3.11/site-packages (from transformers) (2.32.3)\n",
      "Requirement already satisfied: tokenizers<0.21,>=0.20 in /home/wxgrp/luyanfeng/luyanfeng/fork-llama-recipes/env/lib/python3.11/site-packages (from transformers) (0.20.3)\n",
      "Requirement already satisfied: safetensors>=0.4.1 in /home/wxgrp/luyanfeng/luyanfeng/fork-llama-recipes/env/lib/python3.11/site-packages (from transformers) (0.4.5)\n",
      "Requirement already satisfied: tqdm>=4.27 in /home/wxgrp/luyanfeng/luyanfeng/fork-llama-recipes/env/lib/python3.11/site-packages (from transformers) (4.67.0)\n",
      "Requirement already satisfied: fsspec>=2023.5.0 in /home/wxgrp/luyanfeng/luyanfeng/fork-llama-recipes/env/lib/python3.11/site-packages (from huggingface-hub<1.0,>=0.23.2->transformers) (2024.9.0)\n",
      "Requirement already satisfied: typing-extensions>=3.7.4.3 in /home/wxgrp/luyanfeng/luyanfeng/fork-llama-recipes/env/lib/python3.11/site-packages (from huggingface-hub<1.0,>=0.23.2->transformers) (4.12.2)\n",
      "Requirement already satisfied: charset-normalizer<4,>=2 in /home/wxgrp/luyanfeng/luyanfeng/fork-llama-recipes/env/lib/python3.11/site-packages (from requests->transformers) (3.4.0)\n",
      "Requirement already satisfied: idna<4,>=2.5 in /home/wxgrp/luyanfeng/luyanfeng/fork-llama-recipes/env/lib/python3.11/site-packages (from requests->transformers) (3.10)\n",
      "Requirement already satisfied: urllib3<3,>=1.21.1 in /home/wxgrp/luyanfeng/luyanfeng/fork-llama-recipes/env/lib/python3.11/site-packages (from requests->transformers) (2.2.3)\n",
      "Requirement already satisfied: certifi>=2017.4.17 in /home/wxgrp/luyanfeng/luyanfeng/fork-llama-recipes/env/lib/python3.11/site-packages (from requests->transformers) (2024.8.30)\n",
      "Note: you may need to restart the kernel to use updated packages.\n",
      "Looking in indexes: https://pypi.tuna.tsinghua.edu.cn/simple\n",
      "Requirement already satisfied: accelerate in /home/wxgrp/luyanfeng/luyanfeng/fork-llama-recipes/env/lib/python3.11/site-packages (1.1.1)\n",
      "Requirement already satisfied: huggingface-hub>=0.21.0 in /home/wxgrp/luyanfeng/luyanfeng/fork-llama-recipes/env/lib/python3.11/site-packages (from accelerate) (0.26.2)\n",
      "Requirement already satisfied: numpy<3.0.0,>=1.17 in /home/wxgrp/luyanfeng/luyanfeng/fork-llama-recipes/env/lib/python3.11/site-packages (from accelerate) (1.26.4)\n",
      "Requirement already satisfied: packaging>=20.0 in /home/wxgrp/luyanfeng/luyanfeng/fork-llama-recipes/env/lib/python3.11/site-packages (from accelerate) (24.2)\n",
      "Requirement already satisfied: psutil in /home/wxgrp/luyanfeng/luyanfeng/fork-llama-recipes/env/lib/python3.11/site-packages (from accelerate) (6.1.0)\n",
      "Requirement already satisfied: pyyaml in /home/wxgrp/luyanfeng/luyanfeng/fork-llama-recipes/env/lib/python3.11/site-packages (from accelerate) (6.0.1)\n",
      "Requirement already satisfied: safetensors>=0.4.3 in /home/wxgrp/luyanfeng/luyanfeng/fork-llama-recipes/env/lib/python3.11/site-packages (from accelerate) (0.4.5)\n",
      "Requirement already satisfied: torch>=1.10.0 in /home/wxgrp/luyanfeng/luyanfeng/fork-llama-recipes/env/lib/python3.11/site-packages (from accelerate) (2.5.1+cu121)\n",
      "Requirement already satisfied: filelock in /home/wxgrp/luyanfeng/luyanfeng/fork-llama-recipes/env/lib/python3.11/site-packages (from huggingface-hub>=0.21.0->accelerate) (3.16.1)\n",
      "Requirement already satisfied: fsspec>=2023.5.0 in /home/wxgrp/luyanfeng/luyanfeng/fork-llama-recipes/env/lib/python3.11/site-packages (from huggingface-hub>=0.21.0->accelerate) (2024.9.0)\n",
      "Requirement already satisfied: requests in /home/wxgrp/luyanfeng/luyanfeng/fork-llama-recipes/env/lib/python3.11/site-packages (from huggingface-hub>=0.21.0->accelerate) (2.32.3)\n",
      "Requirement already satisfied: tqdm>=4.42.1 in /home/wxgrp/luyanfeng/luyanfeng/fork-llama-recipes/env/lib/python3.11/site-packages (from huggingface-hub>=0.21.0->accelerate) (4.67.0)\n",
      "Requirement already satisfied: typing-extensions>=3.7.4.3 in /home/wxgrp/luyanfeng/luyanfeng/fork-llama-recipes/env/lib/python3.11/site-packages (from huggingface-hub>=0.21.0->accelerate) (4.12.2)\n",
      "Requirement already satisfied: networkx in /home/wxgrp/luyanfeng/luyanfeng/fork-llama-recipes/env/lib/python3.11/site-packages (from torch>=1.10.0->accelerate) (3.4.2)\n",
      "Requirement already satisfied: jinja2 in /home/wxgrp/luyanfeng/luyanfeng/fork-llama-recipes/env/lib/python3.11/site-packages (from torch>=1.10.0->accelerate) (3.1.4)\n",
      "Requirement already satisfied: nvidia-cuda-nvrtc-cu12==12.1.105 in /home/wxgrp/luyanfeng/luyanfeng/fork-llama-recipes/env/lib/python3.11/site-packages (from torch>=1.10.0->accelerate) (12.1.105)\n",
      "Requirement already satisfied: nvidia-cuda-runtime-cu12==12.1.105 in /home/wxgrp/luyanfeng/luyanfeng/fork-llama-recipes/env/lib/python3.11/site-packages (from torch>=1.10.0->accelerate) (12.1.105)\n",
      "Requirement already satisfied: nvidia-cuda-cupti-cu12==12.1.105 in /home/wxgrp/luyanfeng/luyanfeng/fork-llama-recipes/env/lib/python3.11/site-packages (from torch>=1.10.0->accelerate) (12.1.105)\n",
      "Requirement already satisfied: nvidia-cudnn-cu12==9.1.0.70 in /home/wxgrp/luyanfeng/luyanfeng/fork-llama-recipes/env/lib/python3.11/site-packages (from torch>=1.10.0->accelerate) (9.1.0.70)\n",
      "Requirement already satisfied: nvidia-cublas-cu12==12.1.3.1 in /home/wxgrp/luyanfeng/luyanfeng/fork-llama-recipes/env/lib/python3.11/site-packages (from torch>=1.10.0->accelerate) (12.1.3.1)\n",
      "Requirement already satisfied: nvidia-cufft-cu12==11.0.2.54 in /home/wxgrp/luyanfeng/luyanfeng/fork-llama-recipes/env/lib/python3.11/site-packages (from torch>=1.10.0->accelerate) (11.0.2.54)\n",
      "Requirement already satisfied: nvidia-curand-cu12==10.3.2.106 in /home/wxgrp/luyanfeng/luyanfeng/fork-llama-recipes/env/lib/python3.11/site-packages (from torch>=1.10.0->accelerate) (10.3.2.106)\n",
      "Requirement already satisfied: nvidia-cusolver-cu12==11.4.5.107 in /home/wxgrp/luyanfeng/luyanfeng/fork-llama-recipes/env/lib/python3.11/site-packages (from torch>=1.10.0->accelerate) (11.4.5.107)\n",
      "Requirement already satisfied: nvidia-cusparse-cu12==12.1.0.106 in /home/wxgrp/luyanfeng/luyanfeng/fork-llama-recipes/env/lib/python3.11/site-packages (from torch>=1.10.0->accelerate) (12.1.0.106)\n",
      "Requirement already satisfied: nvidia-nccl-cu12==2.21.5 in /home/wxgrp/luyanfeng/luyanfeng/fork-llama-recipes/env/lib/python3.11/site-packages (from torch>=1.10.0->accelerate) (2.21.5)\n",
      "Requirement already satisfied: nvidia-nvtx-cu12==12.1.105 in /home/wxgrp/luyanfeng/luyanfeng/fork-llama-recipes/env/lib/python3.11/site-packages (from torch>=1.10.0->accelerate) (12.1.105)\n",
      "Requirement already satisfied: triton==3.1.0 in /home/wxgrp/luyanfeng/luyanfeng/fork-llama-recipes/env/lib/python3.11/site-packages (from torch>=1.10.0->accelerate) (3.1.0)\n",
      "Requirement already satisfied: sympy==1.13.1 in /home/wxgrp/luyanfeng/luyanfeng/fork-llama-recipes/env/lib/python3.11/site-packages (from torch>=1.10.0->accelerate) (1.13.1)\n",
      "Requirement already satisfied: nvidia-nvjitlink-cu12 in /home/wxgrp/luyanfeng/luyanfeng/fork-llama-recipes/env/lib/python3.11/site-packages (from nvidia-cusolver-cu12==11.4.5.107->torch>=1.10.0->accelerate) (12.4.127)\n",
      "Requirement already satisfied: mpmath<1.4,>=1.1.0 in /home/wxgrp/luyanfeng/luyanfeng/fork-llama-recipes/env/lib/python3.11/site-packages (from sympy==1.13.1->torch>=1.10.0->accelerate) (1.3.0)\n",
      "Requirement already satisfied: MarkupSafe>=2.0 in /home/wxgrp/luyanfeng/luyanfeng/fork-llama-recipes/env/lib/python3.11/site-packages (from jinja2->torch>=1.10.0->accelerate) (2.0.1)\n",
      "Requirement already satisfied: charset-normalizer<4,>=2 in /home/wxgrp/luyanfeng/luyanfeng/fork-llama-recipes/env/lib/python3.11/site-packages (from requests->huggingface-hub>=0.21.0->accelerate) (3.4.0)\n",
      "Requirement already satisfied: idna<4,>=2.5 in /home/wxgrp/luyanfeng/luyanfeng/fork-llama-recipes/env/lib/python3.11/site-packages (from requests->huggingface-hub>=0.21.0->accelerate) (3.10)\n",
      "Requirement already satisfied: urllib3<3,>=1.21.1 in /home/wxgrp/luyanfeng/luyanfeng/fork-llama-recipes/env/lib/python3.11/site-packages (from requests->huggingface-hub>=0.21.0->accelerate) (2.2.3)\n",
      "Requirement already satisfied: certifi>=2017.4.17 in /home/wxgrp/luyanfeng/luyanfeng/fork-llama-recipes/env/lib/python3.11/site-packages (from requests->huggingface-hub>=0.21.0->accelerate) (2024.8.30)\n",
      "Note: you may need to restart the kernel to use updated packages.\n"
     ]
    }
   ],
   "source": [
    "%pip install transformers\n",
    "%pip install accelerate"
   ]
  },
  {
   "cell_type": "code",
   "execution_count": 2,
   "metadata": {},
   "outputs": [
    {
     "name": "stderr",
     "output_type": "stream",
     "text": [
      "/home/wxgrp/luyanfeng/luyanfeng/fork-llama-recipes/env/lib/python3.11/site-packages/tqdm/auto.py:21: TqdmWarning: IProgress not found. Please update jupyter and ipywidgets. See https://ipywidgets.readthedocs.io/en/stable/user_install.html\n",
      "  from .autonotebook import tqdm as notebook_tqdm\n"
     ]
    }
   ],
   "source": [
    "import torch\n",
    "import transformers"
   ]
  },
  {
   "cell_type": "code",
   "execution_count": 3,
   "metadata": {},
   "outputs": [
    {
     "name": "stdout",
     "output_type": "stream",
     "text": [
      "Looking in indexes: https://pypi.tuna.tsinghua.edu.cn/simple\n",
      "Requirement already satisfied: modelscope in /home/wxgrp/luyanfeng/luyanfeng/fork-llama-recipes/env/lib/python3.11/site-packages (1.20.1)\n",
      "Requirement already satisfied: requests>=2.25 in /home/wxgrp/luyanfeng/luyanfeng/fork-llama-recipes/env/lib/python3.11/site-packages (from modelscope) (2.32.3)\n",
      "Requirement already satisfied: tqdm>=4.64.0 in /home/wxgrp/luyanfeng/luyanfeng/fork-llama-recipes/env/lib/python3.11/site-packages (from modelscope) (4.67.0)\n",
      "Requirement already satisfied: urllib3>=1.26 in /home/wxgrp/luyanfeng/luyanfeng/fork-llama-recipes/env/lib/python3.11/site-packages (from modelscope) (2.2.3)\n",
      "Requirement already satisfied: charset-normalizer<4,>=2 in /home/wxgrp/luyanfeng/luyanfeng/fork-llama-recipes/env/lib/python3.11/site-packages (from requests>=2.25->modelscope) (3.4.0)\n",
      "Requirement already satisfied: idna<4,>=2.5 in /home/wxgrp/luyanfeng/luyanfeng/fork-llama-recipes/env/lib/python3.11/site-packages (from requests>=2.25->modelscope) (3.10)\n",
      "Requirement already satisfied: certifi>=2017.4.17 in /home/wxgrp/luyanfeng/luyanfeng/fork-llama-recipes/env/lib/python3.11/site-packages (from requests>=2.25->modelscope) (2024.8.30)\n",
      "Note: you may need to restart the kernel to use updated packages.\n"
     ]
    }
   ],
   "source": [
    "%pip install modelscope"
   ]
  },
  {
   "cell_type": "code",
   "execution_count": 4,
   "metadata": {},
   "outputs": [],
   "source": [
    "from modelscope import snapshot_download"
   ]
  },
  {
   "cell_type": "code",
   "execution_count": 5,
   "metadata": {},
   "outputs": [
    {
     "name": "stdout",
     "output_type": "stream",
     "text": [
      "Downloading Model to directory: /home/wxgrp/luyanfeng/.cache/modelscope/hub/LLM-Research/Meta-Llama-3.1-8B-Instruct\n"
     ]
    },
    {
     "name": "stderr",
     "output_type": "stream",
     "text": [
      "2024-11-19 23:30:43,312 - modelscope - INFO - Target directory already exists, skipping creation.\n"
     ]
    }
   ],
   "source": [
    "# model = \"meta-llama/Meta-Llama-3.1-8B-Instruct\"\n",
    "model_dir: str = snapshot_download(\"LLM-Research/Meta-Llama-3.1-8B-Instruct\")"
   ]
  },
  {
   "cell_type": "code",
   "execution_count": 6,
   "metadata": {},
   "outputs": [
    {
     "name": "stderr",
     "output_type": "stream",
     "text": [
      "Loading checkpoint shards: 100%|██████████| 4/4 [00:06<00:00,  1.74s/it]\n"
     ]
    }
   ],
   "source": [
    "from transformers import AutoModelForCausalLM, AutoTokenizer\n",
    "\n",
    "model = AutoModelForCausalLM.from_pretrained(\n",
    "        model_dir,\n",
    "        device_map=\"auto\",\n",
    "    )\n",
    "tokenizer = AutoTokenizer.from_pretrained(model_dir)"
   ]
  },
  {
   "cell_type": "code",
   "execution_count": 7,
   "metadata": {},
   "outputs": [],
   "source": [
    "pipeline = transformers.pipeline(\n",
    "    \"text-generation\",\n",
    "    model=model,\n",
    "    tokenizer=tokenizer,\n",
    "    torch_dtype=torch.float16,\n",
    "    device_map=\"auto\",\n",
    ")"
   ]
  },
  {
   "cell_type": "code",
   "execution_count": 8,
   "metadata": {},
   "outputs": [
    {
     "name": "stderr",
     "output_type": "stream",
     "text": [
      "Setting `pad_token_id` to `eos_token_id`:None for open-end generation.\n"
     ]
    },
    {
     "name": "stdout",
     "output_type": "stream",
     "text": [
      "I have tomatoes, basil and cheese at home. What can I cook for dinner?\n",
      "Here are some delicious dinner ideas you can whip up using these three ingredients:\n",
      "\n",
      "1.  **Bruschetta**: Toast some bread, rub it with garlic, and top it with diced tomatoes, fresh basil leaves, and a sprinkle of mozzarella cheese. Drizzle with olive oil and balsamic vinegar for a simple yet flavorful appetizer or light dinner.\n",
      "2.  **Caprese Salad**: Slice the tomatoes and layer them with fresh basil leaves and mozzarella cheese on a plate. Drizzle with olive oil and balsamic vinegar for a colorful and refreshing salad.\n",
      "3.  **Tomato and Basil Frittata**: Chop the tomatoes and basil, then mix them with beaten eggs and shredded cheese. Pour the mixture into a greased skillet and cook until the eggs are set. Flip the frittata and cook the other side until golden brown.\n",
      "4.  **Grilled Cheese and Tomato Sandwich**: Top a grilled cheese sandwich with sliced tomatoes and fresh basil leaves for a comforting and satisfying dinner.\n",
      "5.  **Tomato and Basil Pizza**: Top a pizza crust with tomato sauce, sliced tomatoes, fresh basil leaves, and shredded mozzarella cheese. Bake in the oven until the cheese is melted and bubbly.\n",
      "\n",
      "These ideas should inspire you to create a delicious dinner using tomatoes, basil, and cheese. Enjoy! \n",
      "\n",
      "Which one of these options sounds appealing to you, or do you have any other ideas in mind? Let me know if you need any further assistance or have any questions. \n",
      "\n",
      "**Additional suggestions:**\n",
      "\n",
      "*   If you have some pasta or rice at home, you can make a simple pasta or rice bowl with the ingredients.\n",
      "*   If you have some chicken or meat at home, you can grill or sauté it with the tomatoes and basil for a heartier dinner.\n",
      "*   If you have some breadcrumbs or croutons at home, you can add them\n"
     ]
    }
   ],
   "source": [
    "sequences = pipeline(\n",
    "    'I have tomatoes, basil and cheese at home. What can I cook for dinner?\\n',\n",
    "    do_sample=True,\n",
    "    top_k=10,\n",
    "    num_return_sequences=1,\n",
    "    eos_token_id=tokenizer.eos_token_id,\n",
    "    truncation = True,\n",
    "    max_length=400,\n",
    ")\n",
    "\n",
    "print(sequences[0]['generated_text'])"
   ]
  }
 ],
 "metadata": {
  "kernelspec": {
   "display_name": "env",
   "language": "python",
   "name": "python3"
  },
  "language_info": {
   "codemirror_mode": {
    "name": "ipython",
    "version": 3
   },
   "file_extension": ".py",
   "mimetype": "text/x-python",
   "name": "python",
   "nbconvert_exporter": "python",
   "pygments_lexer": "ipython3",
   "version": "3.11.10"
  }
 },
 "nbformat": 4,
 "nbformat_minor": 2
}
